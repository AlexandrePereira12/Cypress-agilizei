{
 "cells": [
  {
   "cell_type": "markdown",
   "metadata": {},
   "source": [
    "# Anotações basicas\n",
    "\n",
    "## Inicializar um projeto NODE\n",
    "- npm init --yes\n",
    "\n",
    "## Instalar o cypress\n",
    "\n",
    "- npm install -D cypress\n",
    "\n",
    "- npm install -D cypress@12.5.0\n",
    "\n",
    "## Abrir o Cypress\n",
    "\n",
    "- npx cypress open"
   ]
  }
 ],
 "metadata": {
  "language_info": {
   "name": "python"
  }
 },
 "nbformat": 4,
 "nbformat_minor": 2
}
